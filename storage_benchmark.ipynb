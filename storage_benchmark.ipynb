{
 "cells": [
  {
   "cell_type": "code",
   "execution_count": null,
   "metadata": {
    "ExecuteTime": {
     "end_time": "2018-12-25T19:27:23.438404Z",
     "start_time": "2018-12-25T19:27:23.433144Z"
    }
   },
   "outputs": [],
   "source": [
    "from pathlib import Path\n",
    "import pandas as pd\n",
    "import numpy as np\n",
    "import random\n",
    "import string"
   ]
  },
  {
   "cell_type": "code",
   "execution_count": null,
   "metadata": {
    "ExecuteTime": {
     "end_time": "2018-12-25T19:27:25.704591Z",
     "start_time": "2018-12-25T19:27:25.700064Z"
    }
   },
   "outputs": [],
   "source": [
    "results = {}"
   ]
  },
  {
   "cell_type": "markdown",
   "metadata": {},
   "source": [
    "## Generate Test Data"
   ]
  },
  {
   "cell_type": "markdown",
   "metadata": {},
   "source": [
    "The test `DataFrame` that can be configured to contain numerical or text data, or both. For the HDF5 library, we test both the fixed and table format. "
   ]
  },
  {
   "cell_type": "code",
   "execution_count": null,
   "metadata": {
    "ExecuteTime": {
     "end_time": "2018-12-25T19:27:29.681064Z",
     "start_time": "2018-12-25T19:27:29.673414Z"
    }
   },
   "outputs": [],
   "source": [
    "def generate_test_data(nrows=100000, numerical_cols=2000, text_cols=0, text_length=10):\n",
    "    ncols = numerical_cols + text_cols\n",
    "    s = \"\".join([random.choice(string.ascii_letters)\n",
    "                 for _ in range(text_length)])\n",
    "    data = pd.concat([pd.DataFrame(np.random.random(size=(nrows, numerical_cols))),\n",
    "                      pd.DataFrame(np.full(shape=(nrows, text_cols), fill_value=s))],\n",
    "                     axis=1, ignore_index=True)\n",
    "    data.columns = [str(i) for i in data.columns]\n",
    "    return data"
   ]
  },
  {
   "cell_type": "code",
   "execution_count": null,
   "metadata": {
    "ExecuteTime": {
     "end_time": "2018-12-25T19:27:33.463405Z",
     "start_time": "2018-12-25T19:27:29.683069Z"
    }
   },
   "outputs": [],
   "source": [
    "df = generate_test_data()\n",
    "df.info()"
   ]
  },
  {
   "cell_type": "markdown",
   "metadata": {},
   "source": [
    "## Parquet"
   ]
  },
  {
   "cell_type": "markdown",
   "metadata": {},
   "source": [
    "### Size"
   ]
  },
  {
   "cell_type": "code",
   "execution_count": null,
   "metadata": {
    "ExecuteTime": {
     "end_time": "2018-12-25T19:29:45.746202Z",
     "start_time": "2018-12-25T19:29:45.744438Z"
    }
   },
   "outputs": [],
   "source": [
    "parquet_file = Path('test.parquet')"
   ]
  },
  {
   "cell_type": "code",
   "execution_count": null,
   "metadata": {
    "ExecuteTime": {
     "end_time": "2018-12-25T19:29:57.424957Z",
     "start_time": "2018-12-25T19:29:45.747437Z"
    }
   },
   "outputs": [],
   "source": [
    "df.to_parquet(parquet_file)\n",
    "size = parquet_file.stat().st_size"
   ]
  },
  {
   "cell_type": "markdown",
   "metadata": {},
   "source": [
    "### Read"
   ]
  },
  {
   "cell_type": "code",
   "execution_count": null,
   "metadata": {
    "ExecuteTime": {
     "end_time": "2018-12-25T19:30:04.220835Z",
     "start_time": "2018-12-25T19:29:57.426230Z"
    }
   },
   "outputs": [],
   "source": [
    "%%timeit -o\n",
    "df = pd.read_parquet(parquet_file)"
   ]
  },
  {
   "cell_type": "code",
   "execution_count": null,
   "metadata": {
    "ExecuteTime": {
     "end_time": "2018-12-25T19:30:04.224309Z",
     "start_time": "2018-12-25T19:30:04.222682Z"
    },
    "scrolled": true
   },
   "outputs": [],
   "source": [
    "read = _"
   ]
  },
  {
   "cell_type": "code",
   "execution_count": null,
   "metadata": {
    "ExecuteTime": {
     "end_time": "2018-12-25T19:30:04.416575Z",
     "start_time": "2018-12-25T19:30:04.225493Z"
    }
   },
   "outputs": [],
   "source": [
    "parquet_file.unlink()"
   ]
  },
  {
   "cell_type": "markdown",
   "metadata": {},
   "source": [
    "### Write"
   ]
  },
  {
   "cell_type": "code",
   "execution_count": null,
   "metadata": {
    "ExecuteTime": {
     "end_time": "2018-12-25T19:31:40.446836Z",
     "start_time": "2018-12-25T19:30:04.417448Z"
    }
   },
   "outputs": [],
   "source": [
    "%%timeit -o\n",
    "df.to_parquet(parquet_file)\n",
    "parquet_file.unlink()"
   ]
  },
  {
   "cell_type": "code",
   "execution_count": null,
   "metadata": {
    "ExecuteTime": {
     "end_time": "2018-12-25T19:31:40.449564Z",
     "start_time": "2018-12-25T19:31:40.448011Z"
    }
   },
   "outputs": [],
   "source": [
    "write = _"
   ]
  },
  {
   "cell_type": "markdown",
   "metadata": {},
   "source": [
    "### Results"
   ]
  },
  {
   "cell_type": "code",
   "execution_count": null,
   "metadata": {
    "ExecuteTime": {
     "end_time": "2018-12-25T19:31:40.557150Z",
     "start_time": "2018-12-25T19:31:40.451140Z"
    }
   },
   "outputs": [],
   "source": [
    "results['parquet'] = {'read': read.all_runs, 'write': write.all_runs, 'size': size}"
   ]
  },
  {
   "cell_type": "markdown",
   "metadata": {},
   "source": [
    "## HDF5"
   ]
  },
  {
   "cell_type": "code",
   "execution_count": null,
   "metadata": {
    "ExecuteTime": {
     "end_time": "2018-12-25T19:31:40.621986Z",
     "start_time": "2018-12-25T19:31:40.559494Z"
    }
   },
   "outputs": [],
   "source": [
    "test_store = Path('index.h5')"
   ]
  },
  {
   "cell_type": "markdown",
   "metadata": {},
   "source": [
    "### Fixed Format"
   ]
  },
  {
   "cell_type": "markdown",
   "metadata": {},
   "source": [
    "#### Size"
   ]
  },
  {
   "cell_type": "code",
   "execution_count": null,
   "metadata": {
    "ExecuteTime": {
     "end_time": "2018-12-25T19:31:44.809005Z",
     "start_time": "2018-12-25T19:31:40.635426Z"
    }
   },
   "outputs": [],
   "source": [
    "with pd.HDFStore(test_store) as store:\n",
    "    store.put('file', df)\n",
    "size = test_store.stat().st_size"
   ]
  },
  {
   "cell_type": "markdown",
   "metadata": {},
   "source": [
    "#### Read"
   ]
  },
  {
   "cell_type": "code",
   "execution_count": null,
   "metadata": {
    "ExecuteTime": {
     "end_time": "2018-12-25T19:31:48.408215Z",
     "start_time": "2018-12-25T19:31:44.809934Z"
    }
   },
   "outputs": [],
   "source": [
    "%%timeit -o\n",
    "with pd.HDFStore(test_store) as store:\n",
    "    store.get('file')"
   ]
  },
  {
   "cell_type": "code",
   "execution_count": null,
   "metadata": {
    "ExecuteTime": {
     "end_time": "2018-12-25T19:31:48.410709Z",
     "start_time": "2018-12-25T19:31:48.409085Z"
    }
   },
   "outputs": [],
   "source": [
    "read = _"
   ]
  },
  {
   "cell_type": "code",
   "execution_count": null,
   "metadata": {
    "ExecuteTime": {
     "end_time": "2018-12-25T19:31:48.556737Z",
     "start_time": "2018-12-25T19:31:48.411668Z"
    }
   },
   "outputs": [],
   "source": [
    "test_store.unlink()"
   ]
  },
  {
   "cell_type": "markdown",
   "metadata": {},
   "source": [
    "#### Write"
   ]
  },
  {
   "cell_type": "code",
   "execution_count": null,
   "metadata": {
    "ExecuteTime": {
     "end_time": "2018-12-25T19:32:22.178194Z",
     "start_time": "2018-12-25T19:31:48.557651Z"
    }
   },
   "outputs": [],
   "source": [
    "%%timeit -o\n",
    "with pd.HDFStore(test_store) as store:\n",
    "    store.put('file', df)\n",
    "test_store.unlink()"
   ]
  },
  {
   "cell_type": "code",
   "execution_count": null,
   "metadata": {
    "ExecuteTime": {
     "end_time": "2018-12-25T19:32:22.180804Z",
     "start_time": "2018-12-25T19:32:22.179212Z"
    }
   },
   "outputs": [],
   "source": [
    "write = _"
   ]
  },
  {
   "cell_type": "markdown",
   "metadata": {},
   "source": [
    "#### Results"
   ]
  },
  {
   "cell_type": "code",
   "execution_count": null,
   "metadata": {
    "ExecuteTime": {
     "end_time": "2018-12-25T19:32:22.195127Z",
     "start_time": "2018-12-25T19:32:22.181934Z"
    }
   },
   "outputs": [],
   "source": [
    "results['hdf_fixed'] = {'read': read.all_runs, 'write': write.all_runs, 'size': size}"
   ]
  },
  {
   "cell_type": "markdown",
   "metadata": {},
   "source": [
    "### Table Format"
   ]
  },
  {
   "cell_type": "markdown",
   "metadata": {},
   "source": [
    "#### Size"
   ]
  },
  {
   "cell_type": "code",
   "execution_count": null,
   "metadata": {
    "ExecuteTime": {
     "end_time": "2018-12-25T19:32:25.050163Z",
     "start_time": "2018-12-25T19:32:22.196674Z"
    }
   },
   "outputs": [],
   "source": [
    "with pd.HDFStore(test_store) as store:\n",
    "    store.append('file', df, format='t')\n",
    "size = test_store.stat().st_size    "
   ]
  },
  {
   "cell_type": "markdown",
   "metadata": {},
   "source": [
    "#### Read"
   ]
  },
  {
   "cell_type": "code",
   "execution_count": null,
   "metadata": {
    "ExecuteTime": {
     "end_time": "2018-12-25T19:32:29.430444Z",
     "start_time": "2018-12-25T19:32:25.051183Z"
    }
   },
   "outputs": [],
   "source": [
    "%%timeit -o\n",
    "with pd.HDFStore(test_store) as store:\n",
    "    df = store.get('file')"
   ]
  },
  {
   "cell_type": "code",
   "execution_count": null,
   "metadata": {
    "ExecuteTime": {
     "end_time": "2018-12-25T19:32:29.433656Z",
     "start_time": "2018-12-25T19:32:29.431766Z"
    }
   },
   "outputs": [],
   "source": [
    "read = _"
   ]
  },
  {
   "cell_type": "code",
   "execution_count": null,
   "metadata": {
    "ExecuteTime": {
     "end_time": "2018-12-25T19:32:29.579892Z",
     "start_time": "2018-12-25T19:32:29.435654Z"
    }
   },
   "outputs": [],
   "source": [
    "test_store.unlink()"
   ]
  },
  {
   "cell_type": "markdown",
   "metadata": {},
   "source": [
    "#### Write"
   ]
  },
  {
   "cell_type": "markdown",
   "metadata": {},
   "source": [
    "Note that `write` in table format does not work with text data."
   ]
  },
  {
   "cell_type": "code",
   "execution_count": null,
   "metadata": {
    "ExecuteTime": {
     "end_time": "2018-12-25T19:32:52.918475Z",
     "start_time": "2018-12-25T19:32:29.580905Z"
    }
   },
   "outputs": [],
   "source": [
    "%%timeit -o\n",
    "with pd.HDFStore(test_store) as store:\n",
    "    store.append('file', df, format='t')\n",
    "test_store.unlink()    "
   ]
  },
  {
   "cell_type": "code",
   "execution_count": null,
   "metadata": {
    "ExecuteTime": {
     "end_time": "2018-12-25T19:32:52.921247Z",
     "start_time": "2018-12-25T19:32:52.919473Z"
    }
   },
   "outputs": [],
   "source": [
    "write = _"
   ]
  },
  {
   "cell_type": "markdown",
   "metadata": {},
   "source": [
    "#### Results"
   ]
  },
  {
   "cell_type": "code",
   "execution_count": null,
   "metadata": {
    "ExecuteTime": {
     "end_time": "2018-12-25T19:32:52.931028Z",
     "start_time": "2018-12-25T19:32:52.922631Z"
    }
   },
   "outputs": [],
   "source": [
    "results['hdf_table'] = {'read': read.all_runs, 'write': write.all_runs, 'size': size}"
   ]
  },
  {
   "cell_type": "markdown",
   "metadata": {},
   "source": [
    "### Table Select"
   ]
  },
  {
   "cell_type": "markdown",
   "metadata": {},
   "source": [
    "#### Size"
   ]
  },
  {
   "cell_type": "code",
   "execution_count": null,
   "metadata": {
    "ExecuteTime": {
     "end_time": "2018-12-25T19:32:55.714668Z",
     "start_time": "2018-12-25T19:32:52.932594Z"
    }
   },
   "outputs": [],
   "source": [
    "with pd.HDFStore(test_store) as store:\n",
    "    store.append('file', df, format='t', data_columns=['company', 'form'])\n",
    "size = test_store.stat().st_size "
   ]
  },
  {
   "cell_type": "markdown",
   "metadata": {},
   "source": [
    "#### Read"
   ]
  },
  {
   "cell_type": "code",
   "execution_count": null,
   "metadata": {
    "ExecuteTime": {
     "end_time": "2018-12-25T19:32:55.717273Z",
     "start_time": "2018-12-25T19:32:55.715537Z"
    }
   },
   "outputs": [],
   "source": [
    "company = 'APPLE INC'"
   ]
  },
  {
   "cell_type": "code",
   "execution_count": null,
   "metadata": {
    "ExecuteTime": {
     "end_time": "2018-12-25T19:32:55.732020Z",
     "start_time": "2018-12-25T19:32:55.718471Z"
    }
   },
   "outputs": [],
   "source": [
    "# %%timeit\n",
    "# with pd.HDFStore(test_store) as store:\n",
    "#     s = store.select('file', 'company = company')"
   ]
  },
  {
   "cell_type": "code",
   "execution_count": null,
   "metadata": {
    "ExecuteTime": {
     "end_time": "2018-12-25T19:32:55.739634Z",
     "start_time": "2018-12-25T19:32:55.732893Z"
    }
   },
   "outputs": [],
   "source": [
    "# read = _"
   ]
  },
  {
   "cell_type": "code",
   "execution_count": null,
   "metadata": {
    "ExecuteTime": {
     "end_time": "2018-12-25T19:32:55.754609Z",
     "start_time": "2018-12-25T19:32:55.740609Z"
    }
   },
   "outputs": [],
   "source": [
    "# test_store.unlink()"
   ]
  },
  {
   "cell_type": "markdown",
   "metadata": {},
   "source": [
    "#### Write"
   ]
  },
  {
   "cell_type": "code",
   "execution_count": null,
   "metadata": {
    "ExecuteTime": {
     "end_time": "2018-12-25T19:32:55.770611Z",
     "start_time": "2018-12-25T19:32:55.760229Z"
    }
   },
   "outputs": [],
   "source": [
    "# %%timeit\n",
    "# with pd.HDFStore(test_store) as store:\n",
    "#     store.append('file', df, format='t', data_columns=['company', 'form'])\n",
    "# test_store.unlink() "
   ]
  },
  {
   "cell_type": "code",
   "execution_count": null,
   "metadata": {
    "ExecuteTime": {
     "end_time": "2018-12-25T19:32:55.780717Z",
     "start_time": "2018-12-25T19:32:55.775462Z"
    }
   },
   "outputs": [],
   "source": [
    "# write = _"
   ]
  },
  {
   "cell_type": "markdown",
   "metadata": {},
   "source": [
    "#### Results"
   ]
  },
  {
   "cell_type": "code",
   "execution_count": null,
   "metadata": {
    "ExecuteTime": {
     "end_time": "2018-12-25T19:32:55.791169Z",
     "start_time": "2018-12-25T19:32:55.784143Z"
    }
   },
   "outputs": [],
   "source": [
    "# results['hdf_select'] = {'read': read.all_runs, 'write': write.all_runs, 'size': size}"
   ]
  },
  {
   "cell_type": "markdown",
   "metadata": {},
   "source": [
    "## CSV"
   ]
  },
  {
   "cell_type": "code",
   "execution_count": null,
   "metadata": {
    "ExecuteTime": {
     "end_time": "2018-12-25T19:32:55.799134Z",
     "start_time": "2018-12-25T19:32:55.793931Z"
    }
   },
   "outputs": [],
   "source": [
    "test_csv = Path('test.csv')"
   ]
  },
  {
   "cell_type": "markdown",
   "metadata": {},
   "source": [
    "### Size"
   ]
  },
  {
   "cell_type": "code",
   "execution_count": null,
   "metadata": {
    "ExecuteTime": {
     "end_time": "2018-12-25T19:35:58.303380Z",
     "start_time": "2018-12-25T19:32:55.800490Z"
    }
   },
   "outputs": [],
   "source": [
    "df.to_csv(test_csv)\n",
    "test_csv.stat().st_size"
   ]
  },
  {
   "cell_type": "markdown",
   "metadata": {},
   "source": [
    "### Read"
   ]
  },
  {
   "cell_type": "code",
   "execution_count": null,
   "metadata": {
    "ExecuteTime": {
     "end_time": "2018-12-25T19:40:11.610187Z",
     "start_time": "2018-12-25T19:35:58.304356Z"
    }
   },
   "outputs": [],
   "source": [
    "%%timeit -o\n",
    "df = pd.read_csv(test_csv)"
   ]
  },
  {
   "cell_type": "code",
   "execution_count": null,
   "metadata": {
    "ExecuteTime": {
     "end_time": "2018-12-25T19:40:11.612572Z",
     "start_time": "2018-12-25T19:40:11.611076Z"
    }
   },
   "outputs": [],
   "source": [
    "read = _"
   ]
  },
  {
   "cell_type": "code",
   "execution_count": null,
   "metadata": {
    "ExecuteTime": {
     "end_time": "2018-12-25T19:40:11.883110Z",
     "start_time": "2018-12-25T19:40:11.613329Z"
    }
   },
   "outputs": [],
   "source": [
    "test_csv.unlink()  "
   ]
  },
  {
   "cell_type": "markdown",
   "metadata": {},
   "source": [
    "### Write"
   ]
  },
  {
   "cell_type": "code",
   "execution_count": null,
   "metadata": {
    "ExecuteTime": {
     "end_time": "2018-12-25T20:05:17.094885Z",
     "start_time": "2018-12-25T19:40:11.884098Z"
    }
   },
   "outputs": [],
   "source": [
    "%%timeit -o\n",
    "df.to_csv(test_csv)\n",
    "test_csv.unlink()"
   ]
  },
  {
   "cell_type": "code",
   "execution_count": null,
   "metadata": {
    "ExecuteTime": {
     "end_time": "2018-12-25T20:05:17.097605Z",
     "start_time": "2018-12-25T20:05:17.095959Z"
    }
   },
   "outputs": [],
   "source": [
    "write = _"
   ]
  },
  {
   "cell_type": "markdown",
   "metadata": {},
   "source": [
    "### Results"
   ]
  },
  {
   "cell_type": "code",
   "execution_count": null,
   "metadata": {
    "ExecuteTime": {
     "end_time": "2018-12-25T20:05:17.113054Z",
     "start_time": "2018-12-25T20:05:17.099971Z"
    }
   },
   "outputs": [],
   "source": [
    "results['csv'] = {'read': read.all_runs, 'write': write.all_runs, 'size': size}"
   ]
  },
  {
   "cell_type": "markdown",
   "metadata": {},
   "source": [
    "## Store Results"
   ]
  },
  {
   "cell_type": "code",
   "execution_count": null,
   "metadata": {
    "ExecuteTime": {
     "end_time": "2018-12-25T20:06:46.934191Z",
     "start_time": "2018-12-25T20:06:46.804080Z"
    }
   },
   "outputs": [],
   "source": [
    "text_num = pd.concat([pd.DataFrame(data).mean().to_frame(f) for f, data in results.items()], axis=1).T\n",
    "text_num[['read', 'write']].plot.barh();"
   ]
  },
  {
   "cell_type": "code",
   "execution_count": null,
   "metadata": {
    "ExecuteTime": {
     "end_time": "2018-12-25T20:06:55.202262Z",
     "start_time": "2018-12-25T20:06:55.084326Z"
    }
   },
   "outputs": [],
   "source": [
    "df = pd.concat([pd.DataFrame(data).mean().to_frame(f) for f, data in results.items()], axis=1).T\n",
    "# df.to_csv('num_only.csv')\n",
    "df[['read', 'write']].plot.barh();"
   ]
  },
  {
   "cell_type": "code",
   "execution_count": null,
   "metadata": {
    "ExecuteTime": {
     "end_time": "2018-12-25T20:05:17.162332Z",
     "start_time": "2018-12-25T19:29:45.832Z"
    }
   },
   "outputs": [],
   "source": [
    "# for f, data in results.items():\n",
    "#     pd.DataFrame(data).to_csv('{}.csv'.format(f))"
   ]
  }
 ],
 "metadata": {
  "kernelspec": {
   "display_name": "Python 3",
   "language": "python",
   "name": "python3"
  },
  "language_info": {
   "codemirror_mode": {
    "name": "ipython",
    "version": 3
   },
   "file_extension": ".py",
   "mimetype": "text/x-python",
   "name": "python",
   "nbconvert_exporter": "python",
   "pygments_lexer": "ipython3",
   "version": "3.7.0"
  },
  "toc": {
   "base_numbering": 1,
   "nav_menu": {},
   "number_sections": true,
   "sideBar": true,
   "skip_h1_title": false,
   "title_cell": "Table of Contents",
   "title_sidebar": "Contents",
   "toc_cell": false,
   "toc_position": {},
   "toc_section_display": true,
   "toc_window_display": true
  }
 },
 "nbformat": 4,
 "nbformat_minor": 2
}
