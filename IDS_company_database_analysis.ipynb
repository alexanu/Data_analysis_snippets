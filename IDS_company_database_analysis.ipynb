{
 "cells": [
  {
   "cell_type": "code",
   "execution_count": null,
   "metadata": {},
   "outputs": [],
   "source": [
    "import pandas as pd\n",
    "import warnings\n",
    "from collections import Counter\n",
    "warnings.filterwarnings('ignore')\n",
    "from IPython.core.interactiveshell import InteractiveShell\n",
    "InteractiveShell.ast_node_interactivity = \"all\" # show several outputs in jupyter cell"
   ]
  },
  {
   "cell_type": "code",
   "execution_count": null,
   "metadata": {},
   "outputs": [],
   "source": [
    "whole_comp_db = pd.read_csv('T:\\FC\\DSI\\Company_standardization_1QBit\\IDS_Company_Master_Data_w_Ultimate.csv')"
   ]
  },
  {
   "cell_type": "code",
   "execution_count": null,
   "metadata": {},
   "outputs": [],
   "source": [
    "whole_comp_db.shape"
   ]
  },
  {
   "cell_type": "code",
   "execution_count": null,
   "metadata": {},
   "outputs": [],
   "source": [
    "whole_comp_db.columns.values.tolist()"
   ]
  },
  {
   "cell_type": "code",
   "execution_count": null,
   "metadata": {},
   "outputs": [],
   "source": [
    "comp_names = Counter(whole_comp_db.ULTIMATE_PARENT_COMPANY_ID)\n",
    "comp_names.most_common(10)"
   ]
  },
  {
   "cell_type": "markdown",
   "metadata": {},
   "source": [
    "Number of unique values in every column"
   ]
  },
  {
   "cell_type": "code",
   "execution_count": null,
   "metadata": {},
   "outputs": [],
   "source": [
    "[(x,whole_comp_db[x].nunique()) for x in whole_comp_db.columns]"
   ]
  },
  {
   "cell_type": "code",
   "execution_count": null,
   "metadata": {},
   "outputs": [],
   "source": [
    "counter = Counter(whole_comp_db.SCOK_NAMEX).items()\n",
    "[item for item, count in counter if count > 1]"
   ]
  },
  {
   "cell_type": "markdown",
   "metadata": {},
   "source": [
    "## Show technical members\n",
    "Tech members have non-positive scok_id"
   ]
  },
  {
   "cell_type": "code",
   "execution_count": null,
   "metadata": {},
   "outputs": [],
   "source": [
    "whole_comp_db[whole_comp_db.SCOK_ID<1]"
   ]
  },
  {
   "cell_type": "markdown",
   "metadata": {},
   "source": [
    "## Checking if scok_id column has outliers"
   ]
  },
  {
   "cell_type": "code",
   "execution_count": null,
   "metadata": {},
   "outputs": [],
   "source": [
    "whole_comp_db.nlargest(5,'SCOK_ID')"
   ]
  },
  {
   "cell_type": "markdown",
   "metadata": {},
   "source": [
    "# Allianz entities\n",
    "The code for the parent is 445"
   ]
  },
  {
   "cell_type": "code",
   "execution_count": null,
   "metadata": {},
   "outputs": [],
   "source": [
    "whole_comp_db[whole_comp_db.ULTIMATE_PARENT_COMPANY_ID==445]"
   ]
  },
  {
   "cell_type": "code",
   "execution_count": null,
   "metadata": {},
   "outputs": [],
   "source": [
    "country_group = whole_comp_db.groupby(\"SCOK_SCTY_CODE\", dropna=False).count()\n",
    "country_group\n",
    "%pprint # turning off pretty printing to display long list\n",
    "country_group.index.values.tolist()\n",
    "%pprint # turning on pretty printing back"
   ]
  },
  {
   "cell_type": "code",
   "execution_count": null,
   "metadata": {},
   "outputs": [],
   "source": [
    "parents = whole_comp_db[(whole_comp_db.SCOK_ID>0) & (whole_comp_db.ULTIMATE_PARENT_COMPANY_ID>0)].groupby(\"ULTIMATE_PARENT_COMPANY_ID\", dropna=False).count()\n",
    "parents[parents.SCOK_ID>100]\n",
    "parents.columns\n",
    "parents.groupby(\"SCOK_ID\",as_index=False).count()\n",
    "#frequencies[frequencies < threshold].index"
   ]
  }
 ],
 "metadata": {
  "kernelspec": {
   "display_name": "Python 3.8.8 ('base')",
   "language": "python",
   "name": "python3"
  },
  "language_info": {
   "codemirror_mode": {
    "name": "ipython",
    "version": 3
   },
   "file_extension": ".py",
   "mimetype": "text/x-python",
   "name": "python",
   "nbconvert_exporter": "python",
   "pygments_lexer": "ipython3",
   "version": "3.8.8"
  },
  "orig_nbformat": 4,
  "vscode": {
   "interpreter": {
    "hash": "0c9f9d76aae4f17fa2acdb4f44f915671fe6868df2da05f15c58f76f707b5dff"
   }
  }
 },
 "nbformat": 4,
 "nbformat_minor": 2
}
