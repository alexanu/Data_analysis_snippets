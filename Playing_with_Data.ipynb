{
 "cells": [
  {
   "cell_type": "markdown",
   "metadata": {},
   "source": [
    "Testing Jupiter"
   ]
  },
  {
   "cell_type": "code",
   "execution_count": 5,
   "metadata": {},
   "outputs": [],
   "source": [
    "import pandas as pd\n",
    "import numpy as np\n",
    "import datetime\n",
    "import warnings\n",
    "warnings.filterwarnings('ignore')"
   ]
  },
  {
   "cell_type": "code",
   "execution_count": 3,
   "metadata": {},
   "outputs": [
    {
     "output_type": "execute_result",
     "data": {
      "text/plain": [
       "datetime.date(2021, 7, 8)"
      ]
     },
     "metadata": {},
     "execution_count": 3
    }
   ],
   "source": [
    "start = datetime.datetime(2016,1,1)\n",
    "end = datetime.date.today()\n",
    "end"
   ]
  },
  {
   "source": [
    "Now we are creating a dataframe for testing"
   ],
   "cell_type": "markdown",
   "metadata": {}
  },
  {
   "cell_type": "code",
   "execution_count": 6,
   "metadata": {},
   "outputs": [
    {
     "output_type": "execute_result",
     "data": {
      "text/plain": [
       "                   A         B         C         D\n",
       "p9zbnoa1pz -0.368287  0.976320  0.929343  2.635409\n",
       "kWkIneydII  0.820667  0.603923 -1.074973 -0.499339\n",
       "CHDSgj7ERV -1.318278 -1.077359 -1.579469  1.269568\n",
       "qexMp28Zbk  0.064350  0.487423  1.019585  1.012809\n",
       "QEeWnUtBvi -0.086445  0.126159 -0.331295 -0.255368\n",
       "9PwfjVDWOv -0.110905 -0.824977  1.174831  0.151664\n",
       "bcAGnXPi9W -1.293807  0.755434 -0.471912 -0.009893\n",
       "dOWVxOtkY8 -0.080272 -1.303513  0.514013 -0.932283\n",
       "R3uJVvsuHp  0.913445 -0.170469  0.252737 -0.351634\n",
       "i6rueGcRMZ -0.970230  0.250050 -2.261514 -0.349185\n",
       "aMwP08iIyy -1.680650  0.965036  0.020530  0.141146\n",
       "JN9ygKauKv  0.221888 -0.511487 -0.830516  0.753048\n",
       "jkUAp4i4QG  0.092885  0.250215 -0.073201 -0.264637\n",
       "e4UVJNTVT1 -0.334052  0.765711 -1.019844  0.994468\n",
       "lp02trpNGw  1.507644  0.727324 -1.281355  0.260605\n",
       "4DguwpV97k -0.620421 -0.974351  0.903097  0.356467\n",
       "JWkWrI37EM  0.028350 -1.012579 -2.174691 -0.734808\n",
       "HZLkA0ZVaZ -0.055162 -1.118261 -0.845192 -1.480490\n",
       "idFuMdNMsG -0.206198 -0.193776 -0.908965  1.313200\n",
       "OSVg2TVfti  0.650865  0.505218 -0.220606 -1.107138\n",
       "XymykEHm4r -0.839721  0.689865  0.021547  0.631785\n",
       "I06eXPfTWD  0.952899 -0.511844 -0.128598  0.188983\n",
       "8LHU3axKGQ  0.301159 -0.111207 -0.244641  1.658018\n",
       "3IiouHe4ii -0.529488 -0.234634  0.746576  1.703311\n",
       "toLe2hsXnu -0.216418 -0.007295 -1.113345 -0.664045\n",
       "wRBLbbPvDP -2.283274  0.077170 -1.551066 -1.996987\n",
       "bwQllgUoqT  0.413700  1.629835  0.616903  0.484209\n",
       "CXqATF7Myu -1.344201  0.378480  1.532445  1.971526\n",
       "Zs4OF9fAo7  1.199469  1.380860 -1.405117  0.778768\n",
       "Et9IJIcLCO -1.633212  0.658595 -0.250540  1.082172"
      ],
      "text/html": "<div>\n<style scoped>\n    .dataframe tbody tr th:only-of-type {\n        vertical-align: middle;\n    }\n\n    .dataframe tbody tr th {\n        vertical-align: top;\n    }\n\n    .dataframe thead th {\n        text-align: right;\n    }\n</style>\n<table border=\"1\" class=\"dataframe\">\n  <thead>\n    <tr style=\"text-align: right;\">\n      <th></th>\n      <th>A</th>\n      <th>B</th>\n      <th>C</th>\n      <th>D</th>\n    </tr>\n  </thead>\n  <tbody>\n    <tr>\n      <th>p9zbnoa1pz</th>\n      <td>-0.368287</td>\n      <td>0.976320</td>\n      <td>0.929343</td>\n      <td>2.635409</td>\n    </tr>\n    <tr>\n      <th>kWkIneydII</th>\n      <td>0.820667</td>\n      <td>0.603923</td>\n      <td>-1.074973</td>\n      <td>-0.499339</td>\n    </tr>\n    <tr>\n      <th>CHDSgj7ERV</th>\n      <td>-1.318278</td>\n      <td>-1.077359</td>\n      <td>-1.579469</td>\n      <td>1.269568</td>\n    </tr>\n    <tr>\n      <th>qexMp28Zbk</th>\n      <td>0.064350</td>\n      <td>0.487423</td>\n      <td>1.019585</td>\n      <td>1.012809</td>\n    </tr>\n    <tr>\n      <th>QEeWnUtBvi</th>\n      <td>-0.086445</td>\n      <td>0.126159</td>\n      <td>-0.331295</td>\n      <td>-0.255368</td>\n    </tr>\n    <tr>\n      <th>9PwfjVDWOv</th>\n      <td>-0.110905</td>\n      <td>-0.824977</td>\n      <td>1.174831</td>\n      <td>0.151664</td>\n    </tr>\n    <tr>\n      <th>bcAGnXPi9W</th>\n      <td>-1.293807</td>\n      <td>0.755434</td>\n      <td>-0.471912</td>\n      <td>-0.009893</td>\n    </tr>\n    <tr>\n      <th>dOWVxOtkY8</th>\n      <td>-0.080272</td>\n      <td>-1.303513</td>\n      <td>0.514013</td>\n      <td>-0.932283</td>\n    </tr>\n    <tr>\n      <th>R3uJVvsuHp</th>\n      <td>0.913445</td>\n      <td>-0.170469</td>\n      <td>0.252737</td>\n      <td>-0.351634</td>\n    </tr>\n    <tr>\n      <th>i6rueGcRMZ</th>\n      <td>-0.970230</td>\n      <td>0.250050</td>\n      <td>-2.261514</td>\n      <td>-0.349185</td>\n    </tr>\n    <tr>\n      <th>aMwP08iIyy</th>\n      <td>-1.680650</td>\n      <td>0.965036</td>\n      <td>0.020530</td>\n      <td>0.141146</td>\n    </tr>\n    <tr>\n      <th>JN9ygKauKv</th>\n      <td>0.221888</td>\n      <td>-0.511487</td>\n      <td>-0.830516</td>\n      <td>0.753048</td>\n    </tr>\n    <tr>\n      <th>jkUAp4i4QG</th>\n      <td>0.092885</td>\n      <td>0.250215</td>\n      <td>-0.073201</td>\n      <td>-0.264637</td>\n    </tr>\n    <tr>\n      <th>e4UVJNTVT1</th>\n      <td>-0.334052</td>\n      <td>0.765711</td>\n      <td>-1.019844</td>\n      <td>0.994468</td>\n    </tr>\n    <tr>\n      <th>lp02trpNGw</th>\n      <td>1.507644</td>\n      <td>0.727324</td>\n      <td>-1.281355</td>\n      <td>0.260605</td>\n    </tr>\n    <tr>\n      <th>4DguwpV97k</th>\n      <td>-0.620421</td>\n      <td>-0.974351</td>\n      <td>0.903097</td>\n      <td>0.356467</td>\n    </tr>\n    <tr>\n      <th>JWkWrI37EM</th>\n      <td>0.028350</td>\n      <td>-1.012579</td>\n      <td>-2.174691</td>\n      <td>-0.734808</td>\n    </tr>\n    <tr>\n      <th>HZLkA0ZVaZ</th>\n      <td>-0.055162</td>\n      <td>-1.118261</td>\n      <td>-0.845192</td>\n      <td>-1.480490</td>\n    </tr>\n    <tr>\n      <th>idFuMdNMsG</th>\n      <td>-0.206198</td>\n      <td>-0.193776</td>\n      <td>-0.908965</td>\n      <td>1.313200</td>\n    </tr>\n    <tr>\n      <th>OSVg2TVfti</th>\n      <td>0.650865</td>\n      <td>0.505218</td>\n      <td>-0.220606</td>\n      <td>-1.107138</td>\n    </tr>\n    <tr>\n      <th>XymykEHm4r</th>\n      <td>-0.839721</td>\n      <td>0.689865</td>\n      <td>0.021547</td>\n      <td>0.631785</td>\n    </tr>\n    <tr>\n      <th>I06eXPfTWD</th>\n      <td>0.952899</td>\n      <td>-0.511844</td>\n      <td>-0.128598</td>\n      <td>0.188983</td>\n    </tr>\n    <tr>\n      <th>8LHU3axKGQ</th>\n      <td>0.301159</td>\n      <td>-0.111207</td>\n      <td>-0.244641</td>\n      <td>1.658018</td>\n    </tr>\n    <tr>\n      <th>3IiouHe4ii</th>\n      <td>-0.529488</td>\n      <td>-0.234634</td>\n      <td>0.746576</td>\n      <td>1.703311</td>\n    </tr>\n    <tr>\n      <th>toLe2hsXnu</th>\n      <td>-0.216418</td>\n      <td>-0.007295</td>\n      <td>-1.113345</td>\n      <td>-0.664045</td>\n    </tr>\n    <tr>\n      <th>wRBLbbPvDP</th>\n      <td>-2.283274</td>\n      <td>0.077170</td>\n      <td>-1.551066</td>\n      <td>-1.996987</td>\n    </tr>\n    <tr>\n      <th>bwQllgUoqT</th>\n      <td>0.413700</td>\n      <td>1.629835</td>\n      <td>0.616903</td>\n      <td>0.484209</td>\n    </tr>\n    <tr>\n      <th>CXqATF7Myu</th>\n      <td>-1.344201</td>\n      <td>0.378480</td>\n      <td>1.532445</td>\n      <td>1.971526</td>\n    </tr>\n    <tr>\n      <th>Zs4OF9fAo7</th>\n      <td>1.199469</td>\n      <td>1.380860</td>\n      <td>-1.405117</td>\n      <td>0.778768</td>\n    </tr>\n    <tr>\n      <th>Et9IJIcLCO</th>\n      <td>-1.633212</td>\n      <td>0.658595</td>\n      <td>-0.250540</td>\n      <td>1.082172</td>\n    </tr>\n  </tbody>\n</table>\n</div>"
     },
     "metadata": {},
     "execution_count": 6
    }
   ],
   "source": [
    "import pandas.util.testing as tm\n",
    "tm.N, tm.K = 5,3\n",
    "Test_data = tm.makeDataFrame()\n",
    "Test_data"
   ]
  },
  {
   "cell_type": "code",
   "execution_count": 11,
   "metadata": {},
   "outputs": [
    {
     "output_type": "stream",
     "name": "stdout",
     "text": [
      "Requirement already satisfied: yfinance in c:\\users\\oanuf\\anaconda3\\lib\\site-packages (0.1.54)\n",
      "Requirement already satisfied: pandas>=0.24 in c:\\users\\oanuf\\anaconda3\\lib\\site-packages (from yfinance) (1.1.3)\n",
      "Requirement already satisfied: multitasking>=0.0.7 in c:\\users\\oanuf\\anaconda3\\lib\\site-packages (from yfinance) (0.0.9)\n",
      "Requirement already satisfied: requests>=2.20 in c:\\users\\oanuf\\anaconda3\\lib\\site-packages (from yfinance) (2.24.0)\n",
      "Requirement already satisfied: numpy>=1.15 in c:\\users\\oanuf\\anaconda3\\lib\\site-packages (from yfinance) (1.19.2)\n",
      "Requirement already satisfied: pytz>=2017.2 in c:\\users\\oanuf\\anaconda3\\lib\\site-packages (from pandas>=0.24->yfinance) (2020.1)\n",
      "Requirement already satisfied: python-dateutil>=2.7.3 in c:\\users\\oanuf\\anaconda3\\lib\\site-packages (from pandas>=0.24->yfinance) (2.8.1)\n",
      "Requirement already satisfied: six>=1.5 in c:\\users\\oanuf\\anaconda3\\lib\\site-packages (from python-dateutil>=2.7.3->pandas>=0.24->yfinance) (1.15.0)\n",
      "Requirement already satisfied: idna<3,>=2.5 in c:\\users\\oanuf\\anaconda3\\lib\\site-packages (from requests>=2.20->yfinance) (2.10)\n",
      "Requirement already satisfied: urllib3!=1.25.0,!=1.25.1,<1.26,>=1.21.1 in c:\\users\\oanuf\\anaconda3\\lib\\site-packages (from requests>=2.20->yfinance) (1.25.11)\n",
      "Requirement already satisfied: certifi>=2017.4.17 in c:\\users\\oanuf\\anaconda3\\lib\\site-packages (from requests>=2.20->yfinance) (2020.6.20)\n",
      "Requirement already satisfied: chardet<4,>=3.0.2 in c:\\users\\oanuf\\anaconda3\\lib\\site-packages (from requests>=2.20->yfinance) (3.0.4)\n",
      "WARNING: You are using pip version 21.0.1; however, version 21.1.3 is available.\n",
      "You should consider upgrading via the 'C:\\Users\\oanuf\\anaconda3\\python.exe -m pip install --upgrade pip' command.\n"
     ]
    },
    {
     "output_type": "execute_result",
     "data": {
      "text/plain": [
       "              Open    High     Low   Close    Volume  Dividends  Stock Splits\n",
       "Date                                                                         \n",
       "2020-07-09  214.26  214.30  209.44  212.26  33121700        0.0             0\n",
       "2020-07-10  211.57  212.03  209.06  211.62  26177600        0.0             0\n",
       "2020-07-13  212.42  213.73  204.52  205.08  38135600        0.0             0\n",
       "2020-07-14  204.15  206.85  200.09  206.35  37591800        0.0             0\n",
       "2020-07-15  207.55  209.30  203.06  206.04  32179400        0.0             0"
      ],
      "text/html": "<div>\n<style scoped>\n    .dataframe tbody tr th:only-of-type {\n        vertical-align: middle;\n    }\n\n    .dataframe tbody tr th {\n        vertical-align: top;\n    }\n\n    .dataframe thead th {\n        text-align: right;\n    }\n</style>\n<table border=\"1\" class=\"dataframe\">\n  <thead>\n    <tr style=\"text-align: right;\">\n      <th></th>\n      <th>Open</th>\n      <th>High</th>\n      <th>Low</th>\n      <th>Close</th>\n      <th>Volume</th>\n      <th>Dividends</th>\n      <th>Stock Splits</th>\n    </tr>\n    <tr>\n      <th>Date</th>\n      <th></th>\n      <th></th>\n      <th></th>\n      <th></th>\n      <th></th>\n      <th></th>\n      <th></th>\n    </tr>\n  </thead>\n  <tbody>\n    <tr>\n      <th>2020-07-09</th>\n      <td>214.26</td>\n      <td>214.30</td>\n      <td>209.44</td>\n      <td>212.26</td>\n      <td>33121700</td>\n      <td>0.0</td>\n      <td>0</td>\n    </tr>\n    <tr>\n      <th>2020-07-10</th>\n      <td>211.57</td>\n      <td>212.03</td>\n      <td>209.06</td>\n      <td>211.62</td>\n      <td>26177600</td>\n      <td>0.0</td>\n      <td>0</td>\n    </tr>\n    <tr>\n      <th>2020-07-13</th>\n      <td>212.42</td>\n      <td>213.73</td>\n      <td>204.52</td>\n      <td>205.08</td>\n      <td>38135600</td>\n      <td>0.0</td>\n      <td>0</td>\n    </tr>\n    <tr>\n      <th>2020-07-14</th>\n      <td>204.15</td>\n      <td>206.85</td>\n      <td>200.09</td>\n      <td>206.35</td>\n      <td>37591800</td>\n      <td>0.0</td>\n      <td>0</td>\n    </tr>\n    <tr>\n      <th>2020-07-15</th>\n      <td>207.55</td>\n      <td>209.30</td>\n      <td>203.06</td>\n      <td>206.04</td>\n      <td>32179400</td>\n      <td>0.0</td>\n      <td>0</td>\n    </tr>\n  </tbody>\n</table>\n</div>"
     },
     "metadata": {},
     "execution_count": 11
    }
   ],
   "source": [
    "import sys\n",
    "!{sys.executable} -m pip install yfinance\n",
    "import yfinance as yf\n",
    "symbols_list = [\"FB\",\"AAPL\",\"NFLX\",\"GOOG\",\"BA\",\"GS\",\"BABA\",\"TSLA\"]\n",
    "ticker = yf.Ticker(\"MSFT\")\n",
    "hist = ticker.history(period=\"1y\")\n",
    "hist.head()"
   ]
  },
  {
   "cell_type": "code",
   "execution_count": null,
   "metadata": {},
   "outputs": [],
   "source": []
  }
 ],
 "metadata": {
  "kernelspec": {
   "name": "python3",
   "display_name": "Python 3.8.5 64-bit ('base': conda)"
  },
  "language_info": {
   "codemirror_mode": {
    "name": "ipython",
    "version": 3
   },
   "file_extension": ".py",
   "mimetype": "text/x-python",
   "name": "python",
   "nbconvert_exporter": "python",
   "pygments_lexer": "ipython3",
   "version": "3.8.5"
  },
  "interpreter": {
   "hash": "2a430b9512b76f515c6b8e583ffdf184e6a83dc665bc85b55c114d9511feceb9"
  }
 },
 "nbformat": 4,
 "nbformat_minor": 2
}